{
 "cells": [
  {
   "cell_type": "markdown",
   "metadata": {},
   "source": [
    "# Alfano et analysis"
   ]
  },
  {
   "cell_type": "code",
   "execution_count": 2,
   "metadata": {},
   "outputs": [],
   "source": [
    "# libraries \n",
    "# libraries\n",
    "suppressMessages(library(dplyr))\n",
    "suppressMessages(library(Seurat))\n",
    "suppressMessages(library(Matrix))\n",
    "suppressMessages(library(gplots))\n",
    "suppressMessages(library(ggplot2))\n",
    "suppressMessages(library(openxlsx))\n",
    "suppressMessages(library(cowplot))\n",
    "suppressMessages(library(patchwork))\n",
    "suppressMessages(library(repr))\n",
    "suppressMessages(library(cowplot))\n",
    "suppressMessages(library(\"viridis\"))\n",
    "suppressMessages(library('pals'))\n",
    "suppressMessages(library(wesanderson))\n"
   ]
  },
  {
   "cell_type": "code",
   "execution_count": null,
   "metadata": {},
   "outputs": [],
   "source": [
    "setwd(\"/Users/tascini.annasofia/ctgb_cluster_root/lustre2/scratch/bioinfotree/common/bioinfotree/prj/AlfanoM_904_infertilita_epigenetics/dataset/20200110/seraut\")\n",
    "Npz='OA'\n",
    "#Npz='iNOA1'\n",
    "#Npz='iNOA2'\n",
    "#Npz='iNOA3'\n",
    "dir.create(paste('./NEW_pz_',Npz, sep=''), showWarnings = F, recursive = T)"
   ]
  },
  {
   "cell_type": "code",
   "execution_count": null,
   "metadata": {},
   "outputs": [],
   "source": [
    "# Load data generated with UMI\n",
    "# USE this for iNOA1 iNOA2 iNOA3 OA\n",
    "counts_file=paste('samples/', Npz,\n",
    "                  '/runs/all/fastq/merged/umi-extracted/mapped/STAR/featureCounts/sorted/samtools/umi-counts/',\n",
    "                    Npz,'.counts.matrix.tsv.gz',sep='')\n",
    "counts_file\n",
    "UMImatrix_sparse = Matrix(as.matrix(read.table(counts_file, \n",
    "                                               sep=\"\\t\", \n",
    "                                               header = T, \n",
    "                                               quote = \"\", \n",
    "                                               row.names = 1)), \n",
    "                          sparse=TRUE)"
   ]
  },
  {
   "cell_type": "code",
   "execution_count": null,
   "metadata": {},
   "outputs": [],
   "source": [
    "# USE this for Guo et al\n",
    "# import data from GSE112013\n",
    "counts_file=('/Users/tascini.annasofia/Downloads/GSE112013_Combined_UMI_table.txt')\n",
    "UMImatrix_sparse = Matrix(as.matrix(read.table(counts_file, \n",
    "                                               sep=\"\\t\", \n",
    "                                               header = T, \n",
    "                                               quote = \"\", \n",
    "                                               row.names = 1)), \n",
    "                          sparse=TRUE)"
   ]
  },
  {
   "cell_type": "code",
   "execution_count": null,
   "metadata": {},
   "outputs": [],
   "source": [
    "# Initialize the Seurat object with the raw (non-normalized data).\n",
    "pz <- CreateSeuratObject(counts = UMImatrix_sparse, \n",
    "                         project = paste(\"pz_\",Npz,sep=''), \n",
    "                         min.cells = 5, \n",
    "                         min.features = 50)"
   ]
  },
  {
   "cell_type": "code",
   "execution_count": null,
   "metadata": {},
   "outputs": [],
   "source": [
    "#pz.iNOA1.raw <- pz\n",
    "#pz.iNOA2.raw <- pz\n",
    "#pz.iNOA3.raw <- pz\n",
    "#pz.GSE112013.raw <- pz\n",
    "pz.OA.raw <- pz"
   ]
  },
  {
   "cell_type": "code",
   "execution_count": null,
   "metadata": {},
   "outputs": [],
   "source": [
    "pz[[\"percent.mt\"]] <- PercentageFeatureSet(pz, pattern = \"^MT-\")\n",
    "## QC plots\n",
    "options(repr.plot.width=8, repr.plot.height=6)\n",
    "VlnPlot(pz, features = c(\"nFeature_RNA\", \"nCount_RNA\", \"percent.mt\"), ncol = 3)\n",
    "plot1 <- FeatureScatter(pz, feature1 = \"nCount_RNA\", feature2 = \"percent.mt\",cols = NULL)\n",
    "plot2 <- FeatureScatter(pz, feature1 = \"nCount_RNA\", feature2 = \"nFeature_RNA\")\n",
    "CombinePlots(plots = list(plot1, plot2))"
   ]
  },
  {
   "cell_type": "code",
   "execution_count": null,
   "metadata": {},
   "outputs": [],
   "source": [
    "sum(pz@meta.data$percent.mt < 20)\n",
    "FeatureScatter(pz, feature1 = \"nCount_RNA\", feature2 = \"percent.mt\",cols = NULL)"
   ]
  },
  {
   "cell_type": "code",
   "execution_count": null,
   "metadata": {},
   "outputs": [],
   "source": [
    "if (Npz == 'iNOA1') {\n",
    "  min_nFeature_RNA = 500\n",
    "  max_nFeature_RNA = 6000\n",
    "  max_percent_MT = 20\n",
    "}\n",
    "\n",
    "\n",
    "if (Npz == 'iNOA2') {\n",
    "  min_nFeature_RNA = 500\n",
    "  max_nFeature_RNA = 6000\n",
    "  max_percent_MT = 20\n",
    "}\n",
    "\n",
    "if (Npz == 'iNOA3') {\n",
    "  min_nFeature_RNA = 500\n",
    "  max_nFeature_RNA = 6000\n",
    "  max_percent_MT = 20\n",
    "}\n",
    "\n",
    "if (Npz == 'OA') {\n",
    "  min_nFeature_RNA = 150\n",
    "  max_nFeature_RNA = 6000\n",
    "  max_percent_MT = 20\n",
    "}\n",
    "\n",
    "if (Npz == 'GSE112013') {\n",
    "  min_nFeature_RNA = 500\n",
    "  max_nFeature_RNA = 10000\n",
    "  max_percent_MT = 20\n",
    "}\n",
    "\n",
    "pz <- subset(pz, \n",
    "             subset = nFeature_RNA > min_nFeature_RNA & nFeature_RNA < max_nFeature_RNA & percent.mt < max_percent_MT)\n",
    "VlnPlot(pz, \n",
    "        features = c(\"nFeature_RNA\", \"nCount_RNA\", \"percent.mt\"), \n",
    "        ncol = 3)\n",
    "FeatureScatter(pz, feature1 = \"nCount_RNA\", feature2 = \"percent.mt\",cols = NULL)"
   ]
  },
  {
   "cell_type": "markdown",
   "metadata": {},
   "source": [
    "# Normalization\n",
    "By default, Seurat employs a global-scaling normalization method “LogNormalize”. \n",
    "It normalizes the feature expression measurements for each cell by the total expression, \n",
    "multiplies this by a scale factor (10,000 by default), and log-transforms the result.\n",
    "Normalized values are stored in pz[[\"RNA\"]]@data."
   ]
  },
  {
   "cell_type": "code",
   "execution_count": null,
   "metadata": {},
   "outputs": [],
   "source": [
    "pz <- NormalizeData(pz, \n",
    "                    normalization.method = \"LogNormalize\", \n",
    "                    scale.factor = 10000)"
   ]
  },
  {
   "cell_type": "markdown",
   "metadata": {},
   "source": [
    "# Highly Variable Feature\n",
    "calculate a subset of features that exhibit high cell-to-cell variation in the dataset (i.e, they are highly expressed in some cells, and lowly expressed in others) focusing on these genes in downstream analysis helps to highlight biological signal in single-cell datasets. Seraut3 use a different method to Seraut 2"
   ]
  },
  {
   "cell_type": "code",
   "execution_count": null,
   "metadata": {},
   "outputs": [],
   "source": [
    "pz <- FindVariableFeatures(pz, \n",
    "                           selection.method = \"vst\", \n",
    "                           nfeatures = 2000)\n",
    "top20_2 <- head(VariableFeatures(pz), 20) # Identify the 20 most highly variableGenes\n",
    "plot1 <- VariableFeaturePlot(pz)\n",
    "LabelPoints(plot = plot1, points = top20_2, repel = TRUE)\n"
   ]
  },
  {
   "cell_type": "markdown",
   "metadata": {},
   "source": [
    "# Scaling Data\n",
    "Apply a linear transformation (‘scaling’) that is a standard pre-processing step prior to dimensional reduction techniques like PCA. \n",
    "It is used the ScaleData function: shifts the expression of each gene, so that the mean expression across cells is 0, scales the expression of each gene, so that the variance across cells is 1. This step gives equal weight in downstream analyses, so that highly-expressed genes do not dominate. The results of this are stored in pz[[\"RNA\"]]@scale.data. We also regress out for the %MT abd the nUMI"
   ]
  },
  {
   "cell_type": "code",
   "execution_count": null,
   "metadata": {},
   "outputs": [],
   "source": [
    "# scale data and regress out %MT and nUMI\n",
    "all.genes <- rownames(pz)\n",
    "\n",
    "#pz <- ScaleData(pz, features = all.genes)\n",
    "\n",
    "pz <- ScaleData(pz, \n",
    "                vars.to.regress = c(\"percent.mt\", \"nFeature_RNA\"), \n",
    "                features = all.genes)"
   ]
  },
  {
   "cell_type": "markdown",
   "metadata": {},
   "source": [
    "# Linear dimensional reduction \n",
    "PCA on the scaled data. By default, only the previously determined variable features are used as input, but can be defined using features argument if you wish to choose a different subset."
   ]
  },
  {
   "cell_type": "code",
   "execution_count": null,
   "metadata": {},
   "outputs": [],
   "source": [
    "pz <- RunPCA(pz, \n",
    "             features = VariableFeatures(object = pz))\n",
    "# Examine and visualize PCA results a few different ways\n",
    "print(pz[[\"pca\"]], dims = 1:5, nfeatures = 5)\n",
    "VizDimLoadings(pz, dims = 1:3, reduction = \"pca\")\n",
    "DimPlot(pz, \n",
    "        reduction = \"pca\")\n"
   ]
  },
  {
   "cell_type": "markdown",
   "metadata": {},
   "source": [
    "DimHeatmap allows for easy exploration of the primary sources of heterogeneity in a dataset, \n",
    "can be useful when trying to decide which PCs to include for further downstream analyses. Both cells and features are ordered according to their PCA scores. Setting cells to a number plots the ‘extreme’ cells on both ends of the spectrum, which dramatically speeds plotting for large datasets. \n",
    "Though clearly a supervised analysis, we find this to be a valuable tool for exploring correlated feature sets."
   ]
  },
  {
   "cell_type": "code",
   "execution_count": null,
   "metadata": {},
   "outputs": [],
   "source": [
    "DimHeatmap(pz, dims = 1, cells = 500, balanced = TRUE)\n",
    "DimHeatmap(pz, dims = 1:15, cells = 500, balanced = TRUE)"
   ]
  },
  {
   "cell_type": "markdown",
   "metadata": {},
   "source": [
    "# CEll Cycle effect"
   ]
  },
  {
   "cell_type": "code",
   "execution_count": null,
   "metadata": {},
   "outputs": [],
   "source": [
    "s.genes <- cc.genes$s.genes\n",
    "g2m.genes <- cc.genes$g2m.genes\n",
    "pz <- CellCycleScoring(pz, s.features = s.genes, g2m.features = g2m.genes, set.ident = TRUE)\n",
    "\n",
    "head(pz[[]], 10)\n",
    "RidgePlot(pz , features = c(\"PCNA\", \"CDC45\", \"ECT2\", \"FHL2\"), ncol = 2)\n",
    "pz <- RunPCA(pz, features = VariableFeatures(pz))\n",
    "DimPlot(pz)"
   ]
  },
  {
   "cell_type": "markdown",
   "metadata": {},
   "source": [
    "Regress out the cell cycle:"
   ]
  },
  {
   "cell_type": "code",
   "execution_count": null,
   "metadata": {},
   "outputs": [],
   "source": [
    "pz <- ScaleData(pz, \n",
    "                vars.to.regress = c(\"S.Score\", \"G2M.Score\", \"percent.mt\", \"nFeature_RNA\"), \n",
    "                features = rownames(pz)) \n"
   ]
  },
  {
   "cell_type": "code",
   "execution_count": null,
   "metadata": {},
   "outputs": [],
   "source": [
    "pz <- RunPCA(pz, features = VariableFeatures(pz))\n",
    "\n",
    "DimPlot(pz)"
   ]
  },
  {
   "cell_type": "markdown",
   "metadata": {},
   "source": [
    "# Determine dimensionality of the dataset \n",
    "To overcome the extensive technical noise in any single feature for scRNA-seq data, Seurat clusters cells based on their PCA scores, with each PC essentially representing a ‘metafeature’, that combines information across a correlated feature set. The top principal components therefore represent a robust compression of the dataset. \n",
    "However, how many componenets should we choose to include? 10? 20? 100?\n",
    "NOTE: This process can take a long time for big datasets, comment out for expediency. More approximate techniques such as those implemented in ElbowPlot() can be used to reduce computation time. "
   ]
  },
  {
   "cell_type": "code",
   "execution_count": null,
   "metadata": {},
   "outputs": [],
   "source": [
    "## Elbow plot\n",
    "ElbowPlot(pz, ndims = 50)"
   ]
  },
  {
   "cell_type": "code",
   "execution_count": null,
   "metadata": {},
   "outputs": [],
   "source": [
    "if (Npz == 'iNOA1') {\n",
    "  nPC = 20 \n",
    "  res = 0.5\n",
    "}\n",
    "\n",
    "\n",
    "if (Npz == 'iNOA2') {\n",
    "  nPC = 20 \n",
    "  res = 0.5\n",
    "}\n",
    "\n",
    "if (Npz == 'iNOA3') {\n",
    "  nPC = 20 \n",
    "  res = 0.2\n",
    "}\n",
    "\n",
    "if (Npz == 'OA') {\n",
    "  nPC = 20 \n",
    "  res = 0.7\n",
    "}"
   ]
  },
  {
   "cell_type": "code",
   "execution_count": null,
   "metadata": {},
   "outputs": [],
   "source": [
    "pz <- FindNeighbors(pz, dims = 1:nPC)\n",
    "pz <- FindClusters(pz, resolution = res)\n",
    "pz <- RunUMAP(pz, dims = 1:nPC)\n",
    "pz <- RunTSNE(pz, dims = 1:nPC)\n",
    "DimPlot(pz, reduction = \"umap\", label = T) + \n",
    "  theme(plot.title = element_text(color=\"blue\", size=26, face=\"bold.italic\"),\n",
    "        axis.text.x = element_text(angle = 90, face = \"bold\", color = 'dodgerblue4', size=22, hjust =1), \n",
    "        axis.title.x = element_text(face = \"bold\", color = \"dodgerblue2\", size = 24),\n",
    "        axis.text.y = element_text(angle = 0, face = \"bold\", color = 'dodgerblue4', size=22),\n",
    "        axis.title.y = element_text(face = \"bold\", color = \"dodgerblue2\", size = 24),\n",
    "        legend.text = element_text(face = \"bold\", color = \"dodgerblue2\", size = 22),\n",
    "        panel.background = element_rect(fill = \"white\",colour = \"black\", size = 1, linetype = \"solid\")) +\n",
    "  labs(subtitle = paste('Res = ', res,', nPC = ',nPC, sep = ''), x = \"UMAP 1\", y = \"UMAP 2\") \n"
   ]
  },
  {
   "cell_type": "code",
   "execution_count": null,
   "metadata": {},
   "outputs": [],
   "source": [
    "DimPlot(pz.literature, reduction = \"tsne\", label = T) + \n",
    "  theme(plot.title = element_text(color=\"blue\", size=26, face=\"bold.italic\"),\n",
    "        axis.text.x = element_text(angle = 90, face = \"bold\", color = 'dodgerblue4', size=22, hjust =1), \n",
    "        axis.title.x = element_text(face = \"bold\", color = \"dodgerblue2\", size = 24),\n",
    "        axis.text.y = element_text(angle = 0, face = \"bold\", color = 'dodgerblue4', size=22),\n",
    "        axis.title.y = element_text(face = \"bold\", color = \"dodgerblue2\", size = 24),\n",
    "        legend.text = element_text(face = \"bold\", color = \"dodgerblue2\", size = 22),\n",
    "        panel.background = element_rect(fill = \"white\",colour = \"black\", size = 1, linetype = \"solid\")) +\n",
    "  labs(subtitle = paste('Res = ', res,', nPC = ',nPC, sep = ''), x = \"UMAP 1\", y = \"UMAP 2\") "
   ]
  },
  {
   "cell_type": "markdown",
   "metadata": {},
   "source": [
    "# resolution impact"
   ]
  },
  {
   "cell_type": "code",
   "execution_count": null,
   "metadata": {},
   "outputs": [],
   "source": [
    "for (resolu in 1:10) {\n",
    "  print(resolu/10)\n",
    "  pz_tmp <- pz\n",
    "  pz_tmp <- FindNeighbors(pz_tmp, dims = 1:nPC)\n",
    "  pz_tmp <- FindClusters(pz_tmp, resolution = resolu/10) \n",
    "  RunUMAP(pz_tmp, dims = 1:nPC)\n",
    "  assign(paste('plot_res', resolu/10, sep=''), DimPlot(pz_tmp, reduction = \"umap\", label = TRUE))\n",
    "}"
   ]
  },
  {
   "cell_type": "code",
   "execution_count": null,
   "metadata": {},
   "outputs": [],
   "source": [
    "options(repr.plot.width=17, repr.plot.height=17)\n",
    "CombinePlots(plots = list(plot_res0.1, plot_res0.2, plot_res0.3, \n",
    "                          plot_res0.4, plot_res0.5, plot_res0.6, \n",
    "                          plot_res0.7, plot_res0.8, plot_res1))"
   ]
  },
  {
   "cell_type": "markdown",
   "metadata": {},
   "source": [
    "# Feature plots "
   ]
  },
  {
   "cell_type": "code",
   "execution_count": null,
   "metadata": {},
   "outputs": [],
   "source": [
    "options(repr.plot.width=7, repr.plot.height=6)\n",
    "FeaturePlot(pz, reduction = \"umap\", pt.size = 2, features = 'percent.mt', label = T)\n",
    "FeaturePlot(pz, reduction = \"umap\", pt.size = 2, features = 'nFeature_RNA', label = T)"
   ]
  },
  {
   "cell_type": "markdown",
   "metadata": {},
   "source": [
    "# Marker genes "
   ]
  },
  {
   "cell_type": "code",
   "execution_count": null,
   "metadata": {},
   "outputs": [],
   "source": [
    "thresh.use = 0.25\n",
    "min.pct = 0.25\n",
    "min.diff.pct = -Inf\n",
    "test=\"wilcox\"\n",
    "test.use = test\n",
    "cluster.markers = FindAllMarkers(pz, thresh.use = thresh.use, test.use=test.use, min.pct=min.pct, min.diff.pct=min.diff.pct, only.pos=TRUE)\n",
    "filename_xls <- paste('pz',Npz,'_allmarkers_res',res,'_nPC',nPC,'min500cells.xlsx',sep='')\n",
    "\n",
    "write.xlsx(cluster.markers,\n",
    "           file= filename_xls, \n",
    "           row.names = T,\n",
    "           asTable = T)\n",
    "\n",
    "top10 <- cluster.markers %>% group_by(cluster) %>% top_n(n = 10, wt = avg_logFC)\n",
    "top3  <- cluster.markers %>% group_by(cluster) %>% top_n(n = 3, wt = avg_logFC)\n",
    "\n",
    "DoHeatmap(pz, features = top10$gene, angle = 90) + NoLegend()\n"
   ]
  },
  {
   "cell_type": "code",
   "execution_count": null,
   "metadata": {},
   "outputs": [],
   "source": [
    "options(repr.plot.width= 17, repr.plot.height=17)\n",
    "DoHeatmap(pz, features = top10$gene, angle = 90) + NoLegend()"
   ]
  },
  {
   "cell_type": "code",
   "execution_count": null,
   "metadata": {},
   "outputs": [],
   "source": [
    "#### Gene signature\n",
    "signature = list()\n",
    "SERTOLI_markers = c('AMH', 'SOX9', 'CLDN11', 'FATE1') #, \n",
    "#                    'RP13-49I15.5')\n",
    "signature[['SERTOLI']] <- SERTOLI_markers\n",
    "LEYDIG_markers = c('CALB2', 'INSL3', 'DLK1', 'LHCGR')#, \n",
    "#                   'CFD', 'IGFBP3', 'IGFBP5', 'IGF2', 'SLC25A37', 'GSTA1', 'SYCP3')\n",
    "signature[['LEYDIG']] <- LEYDIG_markers\n",
    "MYOID_markers = c('MYH11', 'ACTA2', 'MYL9', 'DES')\n",
    "signature[['MYOID']] <- MYOID_markers\n",
    "ENDOTHELIAL_markers = c('VWF', 'CD36', 'CD34', 'PECAM1')#, \n",
    "#                        'NOTCH4', 'JAG1', 'HES1', 'PALMD', 'PDGFB', 'TGFBR2', 'RGS5', 'EPAS1', 'NOSTRIN')\n",
    "signature[['ENDOTHELIAL']] <- ENDOTHELIAL_markers\n",
    "MACROPHAGE_markers = c('CD14', 'CD68', 'CD86', 'CD163')#, \n",
    "#                        'C1QA', 'HLA-DRB1', 'HLA-DPB1', 'CCR5', 'CD74', 'RGS1', \n",
    "#                        'CXCR4', 'TYROBP', 'CSF1R', 'MSR1', 'S100A4')\n",
    "signature[['MACROPHAGE']] <- MACROPHAGE_markers\n"
   ]
  },
  {
   "cell_type": "code",
   "execution_count": null,
   "metadata": {},
   "outputs": [],
   "source": [
    "cell_types <- c(\"SERTOLI\", \"LEYDIG\" , \"MYOID\", \"ENDOTHELIAL\", \"MACROPHAGE\")\n",
    "x<-pz\n",
    "\n",
    "for (s in cell_types) {\n",
    "  print(s)\n",
    "  x[[\"Sign_exp\"]] <- apply(FetchData(object = x, vars = signature[[s]]),1,mean)\n",
    "  assign(paste('Plot_Sign',s,sep=''), \n",
    "         FeaturePlot(x, reduction = \"umap\", \n",
    "                     features = 'Sign_exp', \n",
    "                     label = T, \n",
    "                     cols = c(\"lightgrey\", \"red\")) +\n",
    "         theme(plot.title = element_text(color=\"blue\", size=22, face=\"bold.italic\"),\n",
    "               plot.subtitle = element_text(color=\"dodgerblue2\", size=16, face=\"italic\"),\n",
    "               axis.text.x = element_text(angle = 90, face = \"bold\", color = 'dodgerblue4', size=16, hjust =1), \n",
    "               axis.title.x = element_text(face = \"bold\", color = \"dodgerblue2\", size = 18),\n",
    "               axis.text.y = element_text(angle = 0, face = \"bold\", color = 'dodgerblue4', size=16),\n",
    "               axis.title.y = element_text(face = \"bold\", color = \"dodgerblue2\", size = 18),\n",
    "               legend.text = element_text(face = \"bold\", color = \"dodgerblue2\", size = 12),\n",
    "               panel.background = element_rect(fill = \"white\",colour = \"black\", size = 1, linetype = \"solid\")) +\n",
    "         labs(title= 'Signture expression', subtitle = paste(s,' - MG: ',toString(signature[[s]]), sep=''), x = \"UMAP 1\", y = \"UMAP 2\")) \n",
    "}\n",
    "options(repr.plot.width=12, repr.plot.height=10)\n",
    "CombinePlots(plots = list(Plot_SignSERTOLI, \n",
    "             Plot_SignLEYDIG,\n",
    "             Plot_SignMYOID,\n",
    "             Plot_SignMACROPHAGE,\n",
    "             Plot_SignENDOTHELIAL,\n",
    "             Plot_SignLEYDIG_MYOID), ncol = 2)\n"
   ]
  },
  {
   "cell_type": "code",
   "execution_count": null,
   "metadata": {},
   "outputs": [],
   "source": [
    "#iNOA1\n",
    "new.cluster.ids <- c(\"low_quality\",\n",
    "                     \"LEY\",\n",
    "                     \"MYD\", \n",
    "                     \"SRT\",\n",
    "                     \"MCR\",\n",
    "                     \"END\",\n",
    "                     \"TCL\")\n",
    "names(new.cluster.ids.lit) <- levels(pz)\n",
    "pz <- RenameIdents(pz, new.cluster.ids.lit)\n",
    "\n",
    "levels(pz)\n",
    "pz@meta.data$cell_type=Idents(pz)\n",
    "pz$cell_type <- pz@meta.data$celltype\n",
    "\n",
    "cell2remove <- colnames(pz)[pz@meta.data$celltype == 'low_quality']\n",
    "str(cell2remove)\n",
    "options(repr.plot.width=17, repr.plot.height=7)\n",
    "DimPlot(pz, cells.highlight = cell2remove, order = T, pt.size = 2)\n",
    "pz.clean <- subset(pz, cells = cell2remove, invert=T)\n",
    "save(pz.clean, \"pz.iNOA1\")"
   ]
  },
  {
   "cell_type": "code",
   "execution_count": null,
   "metadata": {},
   "outputs": [],
   "source": [
    "#iNOA2\n",
    "new.cluster.ids <- c(\"LEY\",\n",
    "                     \"MYD\",\n",
    "                     \"SRT\",\n",
    "                     \"MCR\",\n",
    "                     \"TCL\")\n",
    "names(new.cluster.ids.lit) <- levels(pz)\n",
    "pz <- RenameIdents(pz, new.cluster.ids.lit)\n",
    "\n",
    "levels(pz)\n",
    "pz@meta.data$cell_type=Idents(pz)\n",
    "pz$cell_type <- pz@meta.data$celltype\n",
    "save(pz, \"pz.iNOA2\")"
   ]
  },
  {
   "cell_type": "code",
   "execution_count": null,
   "metadata": {},
   "outputs": [],
   "source": [
    "#iNOA2\n",
    "new.cluster.ids <- c(\"LEY\",\n",
    "                     \"MYD\",\n",
    "                     \"END\",\n",
    "                     \"MCR\",\n",
    "                     \"STRO\",\n",
    "                     \"SRT\",\n",
    "                     \"TCL\")\n",
    "names(new.cluster.ids.lit) <- levels(pz)\n",
    "pz <- RenameIdents(pz, new.cluster.ids.lit)\n",
    "\n",
    "levels(pz)\n",
    "pz@meta.data$cell_type=Idents(pz)\n",
    "pz$cell_type <- pz@meta.data$celltype\n",
    "save(pz, \"pz.iNOA3\")"
   ]
  },
  {
   "cell_type": "code",
   "execution_count": null,
   "metadata": {},
   "outputs": [],
   "source": [
    "#OA\n",
    "new.cluster.ids <- c(\"MCR\",\n",
    "                     \"Sperm\",\n",
    "                     \"Sperm\",\n",
    "                     \"Primary S'cytes\",\n",
    "                     \"Differentiated S'gonia\",                     \n",
    "                     \"Elong. S'tidis\",\n",
    "                     \"Elong. S'tidis\",\n",
    "                     \"Round S'tidis\" ,                    \n",
    "                     \"SRT\",\n",
    "                     \"LEY\")\n",
    "names(new.cluster.ids.lit) <- levels(pz)\n",
    "pz <- RenameIdents(pz, new.cluster.ids.lit)\n",
    "\n",
    "levels(pz)\n",
    "pz@meta.data$cell_type=Idents(pz)\n",
    "pz$cell_type <- pz@meta.data$celltype\n",
    "save(pz, \"pz.OA\")"
   ]
  },
  {
   "cell_type": "code",
   "execution_count": null,
   "metadata": {},
   "outputs": [],
   "source": [
    "# only for GSE112013\n",
    "new.cluster.ids <- c(\"Elong. S'tidis\",\n",
    "                     \"Sperm\",\n",
    "                     \"Early primary S'cytes\",\n",
    "                     \"Elong. S'tidis\",\n",
    "                     \"LEY\",\n",
    "                     \"END\",\n",
    "                     \"MCR\",\n",
    "                     \"MYD\",\n",
    "                     \"SSCs\",\n",
    "                     \"Round S'tidis\",\n",
    "                     \"Late primary S'cyte\",\n",
    "                     \"Differentiated S'gonia\",\n",
    "                     \"SRT\",\n",
    "                     \"STRO\")\n",
    "names(new.cluster.ids.lit) <- levels(pz)\n",
    "pz <- RenameIdents(pz, new.cluster.ids.lit)\n",
    "\n",
    "levels(pz)\n",
    "pz@meta.data$cell_type=Idents(pz)\n",
    "pz$cell_type <- pz@meta.data$celltype\n",
    "\n",
    "pz.GSE112013 <- pz\n",
    "save(pz.literature, file = 'pz.GSE112013')"
   ]
  },
  {
   "cell_type": "code",
   "execution_count": null,
   "metadata": {},
   "outputs": [],
   "source": [
    "VlnPlot(pz, feature = c('VWF','PECAM1','NOTCH4', 'JAG1', 'HES1', 'MAML1'), slot = \"counts\", log = TRUE)"
   ]
  },
  {
   "cell_type": "code",
   "execution_count": null,
   "metadata": {},
   "outputs": [],
   "source": [
    "VlnPlot(pz, feature = c('MYH11','ACTA2','PTCH1', 'PTCH2', 'GLI', 'IGFBP6'), slot = \"counts\", log = TRUE)"
   ]
  },
  {
   "cell_type": "code",
   "execution_count": null,
   "metadata": {},
   "outputs": [],
   "source": [
    "VlnPlot(pz, feature = c('SOX9','FATE1','ITGA6', 'WFDC2', 'BEX2', 'PRND'), slot = \"counts\", log = TRUE)"
   ]
  },
  {
   "cell_type": "code",
   "execution_count": null,
   "metadata": {},
   "outputs": [],
   "source": [
    "VlnPlot(pz, feature = c('CFD', 'LUM', 'C7'), slot = \"counts\", log = TRUE)"
   ]
  },
  {
   "cell_type": "code",
   "execution_count": null,
   "metadata": {},
   "outputs": [],
   "source": [
    "VlnPlot(pz, feature = c('DLK1', 'INSL3', 'CFD', 'GSTA1', 'IGFBP3', 'CALB2'), slot = \"counts\", log = TRUE)"
   ]
  },
  {
   "cell_type": "code",
   "execution_count": null,
   "metadata": {},
   "outputs": [],
   "source": [
    "VlnPlot(pz, feature = c('MAGEA4', 'TNP1', 'ZPBP','PRM2','DAZL', 'ID4','FGFR3','KIT','DDX4'), slot = \"counts\", log = TRUE)"
   ]
  },
  {
   "cell_type": "code",
   "execution_count": null,
   "metadata": {},
   "outputs": [],
   "source": [
    "DimPlot(pz, reduction = \"umap\", label = T, pt.size = 2, label.size = 7) + \n",
    "  theme(plot.title = element_text(color=\"blue\", size=26, face=\"bold.italic\"),\n",
    "        axis.text.x = element_text(angle = 90, face = \"bold\", color = 'dodgerblue4', size=22, hjust =1), \n",
    "        axis.title.x = element_text(face = \"bold\", color = \"dodgerblue2\", size = 24),\n",
    "        axis.text.y = element_text(angle = 0, face = \"bold\", color = 'dodgerblue4', size=22),\n",
    "        axis.title.y = element_text(face = \"bold\", color = \"dodgerblue2\", size = 24),\n",
    "        legend.text = element_text(face = \"bold\", color = \"dodgerblue2\", size = 22),\n",
    "        panel.background = element_rect(fill = \"white\",colour = \"black\", size = 1, linetype = \"solid\")) +\n",
    "  labs(subtitle = paste('pz_',Npz,'- Res = ',res,', nPC =', nPC, sep = ' '), x = \"UMAP 1\", y = \"UMAP 2\") "
   ]
  },
  {
   "cell_type": "code",
   "execution_count": null,
   "metadata": {},
   "outputs": [],
   "source": [
    "options(repr.plot.width=15, repr.plot.height=15)\n",
    "DoHeatmap(pz, \n",
    "          features = top10$gene, \n",
    "          angle = 90) + NoLegend()"
   ]
  },
  {
   "cell_type": "code",
   "execution_count": null,
   "metadata": {},
   "outputs": [],
   "source": [
    "load('pz.GSE112013')\n",
    "load('pz.OA')\n",
    "testis.query <- pz.OA\n",
    "testis.anchors <- FindTransferAnchors(reference = pz.GSE112013, query = testis.query, \n",
    "    dims = 1:30)\n",
    "predictions <- TransferData(anchorset = testis.anchors, refdata = pz.literature$cell_type, \n",
    "    dims = 1:30)\n",
    "testis.query <- AddMetaData(testis.query, metadata = predictions)\n",
    "table(testis.query$predicted.id)\n",
    "testis.query$prediction.match <- testis.query$predicted.id == testis.query$cell_type\n",
    "table(testis.query$prediction.match)"
   ]
  }
 ],
 "metadata": {
  "kernelspec": {
   "display_name": "R",
   "language": "R",
   "name": "ir"
  },
  "language_info": {
   "codemirror_mode": "r",
   "file_extension": ".r",
   "mimetype": "text/x-r-source",
   "name": "R",
   "pygments_lexer": "r",
   "version": "3.6.2"
  }
 },
 "nbformat": 4,
 "nbformat_minor": 2
}
